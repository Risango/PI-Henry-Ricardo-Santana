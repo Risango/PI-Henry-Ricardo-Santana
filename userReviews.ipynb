{
 "cells": [
  {
   "cell_type": "code",
   "execution_count": 3,
   "metadata": {},
   "outputs": [],
   "source": [
    "# Importamos librerías\n",
    "import pandas as pd\n",
    "import json\n",
    "from langdetect import detect\n",
    "import nltk\n",
    "import numpy as np\n",
    "from nltk.sentiment import SentimentIntensityAnalyzer"
   ]
  },
  {
   "cell_type": "code",
   "execution_count": 3,
   "metadata": {},
   "outputs": [
    {
     "name": "stderr",
     "output_type": "stream",
     "text": [
      "[nltk_data] Downloading package vader_lexicon to\n",
      "[nltk_data]     C:\\Users\\Hp\\AppData\\Roaming\\nltk_data...\n"
     ]
    },
    {
     "data": {
      "text/plain": [
       "True"
      ]
     },
     "execution_count": 3,
     "metadata": {},
     "output_type": "execute_result"
    }
   ],
   "source": [
    "nltk.download('vader_lexicon')"
   ]
  },
  {
   "cell_type": "code",
   "execution_count": 8,
   "metadata": {},
   "outputs": [],
   "source": [
    "ruta = 'australian_user_reviewsR.json'\n",
    "with open(ruta, 'r', encoding='utf-8') as f:\n",
    "    data = json.load(f)  \n",
    "df_UserReviews = pd.DataFrame(data)"
   ]
  },
  {
   "cell_type": "code",
   "execution_count": 10,
   "metadata": {},
   "outputs": [
    {
     "name": "stdout",
     "output_type": "stream",
     "text": [
      "Primeras filas del DataFrame:\n"
     ]
    },
    {
     "data": {
      "text/html": [
       "<div>\n",
       "<style scoped>\n",
       "    .dataframe tbody tr th:only-of-type {\n",
       "        vertical-align: middle;\n",
       "    }\n",
       "\n",
       "    .dataframe tbody tr th {\n",
       "        vertical-align: top;\n",
       "    }\n",
       "\n",
       "    .dataframe thead th {\n",
       "        text-align: right;\n",
       "    }\n",
       "</style>\n",
       "<table border=\"1\" class=\"dataframe\">\n",
       "  <thead>\n",
       "    <tr style=\"text-align: right;\">\n",
       "      <th></th>\n",
       "      <th>user_id</th>\n",
       "      <th>user_url</th>\n",
       "      <th>reviews</th>\n",
       "    </tr>\n",
       "  </thead>\n",
       "  <tbody>\n",
       "    <tr>\n",
       "      <th>0</th>\n",
       "      <td>76561197970982479</td>\n",
       "      <td>http://steamcommunity.com/profiles/76561197970...</td>\n",
       "      <td>[{'funny': '', 'posted': 'Posted November 5, 2...</td>\n",
       "    </tr>\n",
       "    <tr>\n",
       "      <th>1</th>\n",
       "      <td>js41637</td>\n",
       "      <td>http://steamcommunity.com/id/js41637</td>\n",
       "      <td>[{'funny': '', 'posted': 'Posted June 24, 2014...</td>\n",
       "    </tr>\n",
       "    <tr>\n",
       "      <th>2</th>\n",
       "      <td>evcentric</td>\n",
       "      <td>http://steamcommunity.com/id/evcentric</td>\n",
       "      <td>[{'funny': '', 'posted': 'Posted February 3.',...</td>\n",
       "    </tr>\n",
       "    <tr>\n",
       "      <th>3</th>\n",
       "      <td>doctr</td>\n",
       "      <td>http://steamcommunity.com/id/doctr</td>\n",
       "      <td>[{'funny': '', 'posted': 'Posted October 14, 2...</td>\n",
       "    </tr>\n",
       "    <tr>\n",
       "      <th>4</th>\n",
       "      <td>maplemage</td>\n",
       "      <td>http://steamcommunity.com/id/maplemage</td>\n",
       "      <td>[{'funny': '3 people found this review funny',...</td>\n",
       "    </tr>\n",
       "  </tbody>\n",
       "</table>\n",
       "</div>"
      ],
      "text/plain": [
       "             user_id                                           user_url  \\\n",
       "0  76561197970982479  http://steamcommunity.com/profiles/76561197970...   \n",
       "1            js41637               http://steamcommunity.com/id/js41637   \n",
       "2          evcentric             http://steamcommunity.com/id/evcentric   \n",
       "3              doctr                 http://steamcommunity.com/id/doctr   \n",
       "4          maplemage             http://steamcommunity.com/id/maplemage   \n",
       "\n",
       "                                             reviews  \n",
       "0  [{'funny': '', 'posted': 'Posted November 5, 2...  \n",
       "1  [{'funny': '', 'posted': 'Posted June 24, 2014...  \n",
       "2  [{'funny': '', 'posted': 'Posted February 3.',...  \n",
       "3  [{'funny': '', 'posted': 'Posted October 14, 2...  \n",
       "4  [{'funny': '3 people found this review funny',...  "
      ]
     },
     "execution_count": 10,
     "metadata": {},
     "output_type": "execute_result"
    }
   ],
   "source": [
    "# Mostrar las primeras filas del DataFrame\n",
    "print(\"Primeras filas del DataFrame:\")\n",
    "df_UserReviews.head()"
   ]
  },
  {
   "cell_type": "code",
   "execution_count": 12,
   "metadata": {},
   "outputs": [],
   "source": [
    "with open('australian_user_reviewsR.json', 'r', encoding='utf-8') as file:\n",
    "    URev = json.loads(file.read())"
   ]
  },
  {
   "cell_type": "code",
   "execution_count": 15,
   "metadata": {},
   "outputs": [
    {
     "name": "stdout",
     "output_type": "stream",
     "text": [
      "           Conteo Porcentaje\n",
      "recommend                   \n",
      "True        52473     88.48%\n",
      "False        6832     11.52%\n"
     ]
    }
   ],
   "source": [
    "# Calcula valores en la columna 'recommend' \n",
    "conteo_por_recomendaciones = df_UserReviews['recommend'].value_counts()\n",
    "porcentaje_recomendaciones = df_UserReviews['recommend'].value_counts(normalize=True) * 100\n",
    "resumen_recomendaciones = pd.DataFrame({\n",
    "    'Conteo': conteo_por_recomendaciones,\n",
    "    'Porcentaje': porcentaje_recomendaciones.round(2).astype(str) + '%'\n",
    "})\n",
    "\n",
    "resumen_recomendaciones = resumen_recomendaciones.sort_values(by='Conteo', ascending=False)\n",
    "print(resumen_recomendaciones)"
   ]
  },
  {
   "cell_type": "code",
   "execution_count": 16,
   "metadata": {},
   "outputs": [],
   "source": [
    "\n",
    "# Reemplazar valores vacíos, 'null' y 'None' con NaN en todo el DataFrame\n",
    "df_UserReviews.replace(['', 'null', 'None'], np.nan, inplace=True)"
   ]
  },
  {
   "cell_type": "code",
   "execution_count": 17,
   "metadata": {},
   "outputs": [
    {
     "data": {
      "text/html": [
       "<div>\n",
       "<style scoped>\n",
       "    .dataframe tbody tr th:only-of-type {\n",
       "        vertical-align: middle;\n",
       "    }\n",
       "\n",
       "    .dataframe tbody tr th {\n",
       "        vertical-align: top;\n",
       "    }\n",
       "\n",
       "    .dataframe thead th {\n",
       "        text-align: right;\n",
       "    }\n",
       "</style>\n",
       "<table border=\"1\" class=\"dataframe\">\n",
       "  <thead>\n",
       "    <tr style=\"text-align: right;\">\n",
       "      <th></th>\n",
       "      <th>user_id</th>\n",
       "      <th>user_url</th>\n",
       "      <th>funny</th>\n",
       "      <th>posted</th>\n",
       "      <th>last_edited</th>\n",
       "      <th>item_id</th>\n",
       "      <th>helpful</th>\n",
       "      <th>recommend</th>\n",
       "      <th>review</th>\n",
       "    </tr>\n",
       "  </thead>\n",
       "  <tbody>\n",
       "  </tbody>\n",
       "</table>\n",
       "</div>"
      ],
      "text/plain": [
       "Empty DataFrame\n",
       "Columns: [user_id, user_url, funny, posted, last_edited, item_id, helpful, recommend, review]\n",
       "Index: []"
      ]
     },
     "execution_count": 17,
     "metadata": {},
     "output_type": "execute_result"
    }
   ],
   "source": [
    "\n",
    "# nulos\n",
    "columnas_a_considerar = ['posted', 'recommend', 'review']\n",
    "filas_con_nulos = df_UserReviews[df_UserReviews[columnas_a_considerar].isnull().all(axis=1)]\n",
    "filas_con_nulos"
   ]
  },
  {
   "cell_type": "code",
   "execution_count": 22,
   "metadata": {},
   "outputs": [
    {
     "name": "stdout",
     "output_type": "stream",
     "text": [
      "Columnas con más del 80.0% de valores nulos (candidatas a eliminar):\n"
     ]
    }
   ],
   "source": [
    "\n",
    "# Se establece umbral del 80% para decidir que columnas eliminar por valores nulos\n",
    "umbral_nulos = 0.8\n",
    "\n",
    "# Calcula el porcentaje de valores nulos por columna\n",
    "porcentaje_nulos = df_UserReviews.isnull().mean()\n",
    "columnas_a_eliminar = porcentaje_nulos[porcentaje_nulos > umbral_nulos]\n",
    "print(\"Columnas con más del {}% de valores nulos (candidatas a eliminar):\".format(umbral_nulos * 100))\n",
    "for columna, porcentaje in columnas_a_eliminar.items():\n",
    "    print(\"{}: {:.2%}\".format(columna, porcentaje))"
   ]
  },
  {
   "cell_type": "code",
   "execution_count": 23,
   "metadata": {},
   "outputs": [
    {
     "data": {
      "text/plain": [
       "user_id      1734\n",
       "user_url     1734\n",
       "posted       1734\n",
       "item_id      1734\n",
       "helpful      1734\n",
       "recommend    1734\n",
       "review       1734\n",
       "dtype: int64"
      ]
     },
     "execution_count": 23,
     "metadata": {},
     "output_type": "execute_result"
    }
   ],
   "source": [
    "\n",
    "# Eliminamos las columnas que pasan el umbral establecido para valores nulos \n",
    "df_UserReviews.drop(columns=columnas_a_eliminar.index, inplace=True)\n",
    "df_UserReviews.sort_values('user_id')\n",
    "filas_duplicadas = df_UserReviews[df_UserReviews.duplicated(subset=['user_id', 'item_id', 'posted', 'review'], keep=False)]\n",
    "filas_duplicadas.count()"
   ]
  },
  {
   "cell_type": "code",
   "execution_count": 24,
   "metadata": {},
   "outputs": [
    {
     "name": "stdout",
     "output_type": "stream",
     "text": [
      "Cantidad total de registros duplicados eliminados: 1734\n"
     ]
    }
   ],
   "source": [
    "# Se eliminan los registros duplicados\n",
    "duplicados_eliminados = df_UserReviews.drop_duplicates(subset=['user_id', 'item_id', 'posted', 'review'], keep=False, inplace=True)\n",
    "cantidad_total_duplicados_eliminados = filas_duplicadas.shape[0]\n",
    "print(\"Cantidad total de registros duplicados eliminados:\", cantidad_total_duplicados_eliminados)"
   ]
  },
  {
   "cell_type": "code",
   "execution_count": 26,
   "metadata": {},
   "outputs": [
    {
     "name": "stdout",
     "output_type": "stream",
     "text": [
      "Posted November 5, 2011.\n",
      "Posted July 15, 2011.\n",
      "Posted April 21, 2011.\n",
      "Posted June 24, 2014.\n",
      "Posted September 8, 2013.\n",
      "Posted November 29, 2013.\n",
      "Posted February 3.\n",
      "Posted December 4, 2015.\n",
      "Posted November 3, 2014.\n",
      "Posted October 15, 2014.\n",
      "Posted October 14, 2013.\n"
     ]
    }
   ],
   "source": [
    "unique_posted_values = df_UserReviews['posted'].unique()\n",
    "i = 0\n",
    "for value in unique_posted_values:\n",
    "    if i <= 10:\n",
    "        print(value)\n",
    "        i += 1\n",
    "    else: break"
   ]
  },
  {
   "cell_type": "code",
   "execution_count": 27,
   "metadata": {},
   "outputs": [],
   "source": [
    "df_UserReviews['posted'] = pd.to_datetime(df_UserReviews['posted'].astype(str).str.replace(r'Posted |,|\\.', '', regex=True), errors='coerce')\n",
    "# Crea la columna 'year' a partir de 'posted'\n",
    "df_UserReviews['year'] = df_UserReviews['posted'].dt.year.astype('Int64')\n",
    "df_UserReviews = df_UserReviews.sort_values(['item_id', 'year'])"
   ]
  },
  {
   "cell_type": "code",
   "execution_count": 28,
   "metadata": {},
   "outputs": [
    {
     "name": "stderr",
     "output_type": "stream",
     "text": [
      "C:\\Users\\Hp\\AppData\\Local\\Temp\\ipykernel_19332\\2234249454.py:2: FutureWarning: Series.interpolate with method=pad is deprecated and will raise in a future version. Use obj.ffill() or obj.bfill() instead.\n",
      "  df_UserReviews['year'] = df_UserReviews.groupby('item_id', group_keys=False)['year'].apply(lambda group: group.interpolate(method='pad') if group.notna().any() else group)\n"
     ]
    }
   ],
   "source": [
    "df_UserReviews['year'] = df_UserReviews.groupby('item_id', group_keys=False)['year'].apply(lambda group: group.interpolate(method='pad') if group.notna().any() else group)\n",
    "df_UserReviews['year'] = df_UserReviews['year'].fillna(df_UserReviews['year'].median())"
   ]
  },
  {
   "cell_type": "code",
   "execution_count": 29,
   "metadata": {},
   "outputs": [
    {
     "data": {
      "text/html": [
       "<div>\n",
       "<style scoped>\n",
       "    .dataframe tbody tr th:only-of-type {\n",
       "        vertical-align: middle;\n",
       "    }\n",
       "\n",
       "    .dataframe tbody tr th {\n",
       "        vertical-align: top;\n",
       "    }\n",
       "\n",
       "    .dataframe thead th {\n",
       "        text-align: right;\n",
       "    }\n",
       "</style>\n",
       "<table border=\"1\" class=\"dataframe\">\n",
       "  <thead>\n",
       "    <tr style=\"text-align: right;\">\n",
       "      <th></th>\n",
       "      <th>user_url</th>\n",
       "      <th>item_id</th>\n",
       "      <th>helpful</th>\n",
       "      <th>recommend</th>\n",
       "      <th>review</th>\n",
       "      <th>year</th>\n",
       "    </tr>\n",
       "  </thead>\n",
       "  <tbody>\n",
       "    <tr>\n",
       "      <th>5331</th>\n",
       "      <td>http://steamcommunity.com/profiles/76561198040...</td>\n",
       "      <td>10</td>\n",
       "      <td>0 of 2 people (0%) found this review helpful</td>\n",
       "      <td>True</td>\n",
       "      <td>this game is the 1# online action game is awes...</td>\n",
       "      <td>2011</td>\n",
       "    </tr>\n",
       "    <tr>\n",
       "      <th>22702</th>\n",
       "      <td>http://steamcommunity.com/id/maddoxx789</td>\n",
       "      <td>10</td>\n",
       "      <td>No ratings yet</td>\n",
       "      <td>True</td>\n",
       "      <td>GYERTEK GAMELNI MINDENKI ITT VAN AKI SZÁMIT !!...</td>\n",
       "      <td>2012</td>\n",
       "    </tr>\n",
       "    <tr>\n",
       "      <th>35539</th>\n",
       "      <td>http://steamcommunity.com/id/mixadance</td>\n",
       "      <td>10</td>\n",
       "      <td>2 of 3 people (67%) found this review helpful</td>\n",
       "      <td>True</td>\n",
       "      <td>:D</td>\n",
       "      <td>2012</td>\n",
       "    </tr>\n",
       "    <tr>\n",
       "      <th>43134</th>\n",
       "      <td>http://steamcommunity.com/id/waspish</td>\n",
       "      <td>10</td>\n",
       "      <td>No ratings yet</td>\n",
       "      <td>True</td>\n",
       "      <td>Good Game :D</td>\n",
       "      <td>2012</td>\n",
       "    </tr>\n",
       "    <tr>\n",
       "      <th>24137</th>\n",
       "      <td>http://steamcommunity.com/profiles/76561198001...</td>\n",
       "      <td>10</td>\n",
       "      <td>No ratings yet</td>\n",
       "      <td>True</td>\n",
       "      <td>jueguenlooooooo</td>\n",
       "      <td>2013</td>\n",
       "    </tr>\n",
       "  </tbody>\n",
       "</table>\n",
       "</div>"
      ],
      "text/plain": [
       "                                                user_url item_id  \\\n",
       "5331   http://steamcommunity.com/profiles/76561198040...      10   \n",
       "22702            http://steamcommunity.com/id/maddoxx789      10   \n",
       "35539             http://steamcommunity.com/id/mixadance      10   \n",
       "43134               http://steamcommunity.com/id/waspish      10   \n",
       "24137  http://steamcommunity.com/profiles/76561198001...      10   \n",
       "\n",
       "                                             helpful  recommend  \\\n",
       "5331    0 of 2 people (0%) found this review helpful       True   \n",
       "22702                                 No ratings yet       True   \n",
       "35539  2 of 3 people (67%) found this review helpful       True   \n",
       "43134                                 No ratings yet       True   \n",
       "24137                                 No ratings yet       True   \n",
       "\n",
       "                                                  review  year  \n",
       "5331   this game is the 1# online action game is awes...  2011  \n",
       "22702  GYERTEK GAMELNI MINDENKI ITT VAN AKI SZÁMIT !!...  2012  \n",
       "35539                                                 :D  2012  \n",
       "43134                                       Good Game :D  2012  \n",
       "24137                                    jueguenlooooooo  2013  "
      ]
     },
     "execution_count": 29,
     "metadata": {},
     "output_type": "execute_result"
    }
   ],
   "source": [
    "# Se eliminan las columnas 'posted' y 'user_id' que ya no son de utilidad\n",
    "df_UserReviews.drop(['posted', 'user_id'], axis=1, inplace=True)\n",
    "df_UserReviews.head()"
   ]
  },
  {
   "cell_type": "code",
   "execution_count": 30,
   "metadata": {},
   "outputs": [
    {
     "data": {
      "text/html": [
       "<div>\n",
       "<style scoped>\n",
       "    .dataframe tbody tr th:only-of-type {\n",
       "        vertical-align: middle;\n",
       "    }\n",
       "\n",
       "    .dataframe tbody tr th {\n",
       "        vertical-align: top;\n",
       "    }\n",
       "\n",
       "    .dataframe thead th {\n",
       "        text-align: right;\n",
       "    }\n",
       "</style>\n",
       "<table border=\"1\" class=\"dataframe\">\n",
       "  <thead>\n",
       "    <tr style=\"text-align: right;\">\n",
       "      <th></th>\n",
       "      <th>Conteo</th>\n",
       "      <th>Porcentaje</th>\n",
       "    </tr>\n",
       "    <tr>\n",
       "      <th>language</th>\n",
       "      <th></th>\n",
       "      <th></th>\n",
       "    </tr>\n",
       "  </thead>\n",
       "  <tbody>\n",
       "    <tr>\n",
       "      <th>en</th>\n",
       "      <td>44382</td>\n",
       "      <td>77.84%</td>\n",
       "    </tr>\n",
       "    <tr>\n",
       "      <th>pt</th>\n",
       "      <td>2131</td>\n",
       "      <td>3.74%</td>\n",
       "    </tr>\n",
       "    <tr>\n",
       "      <th>es</th>\n",
       "      <td>1245</td>\n",
       "      <td>2.18%</td>\n",
       "    </tr>\n",
       "    <tr>\n",
       "      <th>de</th>\n",
       "      <td>1123</td>\n",
       "      <td>1.97%</td>\n",
       "    </tr>\n",
       "    <tr>\n",
       "      <th>so</th>\n",
       "      <td>993</td>\n",
       "      <td>1.74%</td>\n",
       "    </tr>\n",
       "  </tbody>\n",
       "</table>\n",
       "</div>"
      ],
      "text/plain": [
       "          Conteo Porcentaje\n",
       "language                   \n",
       "en         44382     77.84%\n",
       "pt          2131      3.74%\n",
       "es          1245      2.18%\n",
       "de          1123      1.97%\n",
       "so           993      1.74%"
      ]
     },
     "execution_count": 30,
     "metadata": {},
     "output_type": "execute_result"
    }
   ],
   "source": [
    "# Análisis de idioma en reseñas\n",
    "\n",
    "def detectar_idioma(texto):\n",
    "    try:\n",
    "        return detect(texto)\n",
    "    except:\n",
    "        return None\n",
    "    \n",
    "df_UserReviews['language'] = df_UserReviews['review'].apply(detectar_idioma)\n",
    "\n",
    "# Calcular el conteo y porcentaje de cada idioma\n",
    "conteo_por_idioma = df_UserReviews['language'].value_counts()\n",
    "porcentaje_por_idioma = df_UserReviews['language'].value_counts(normalize=True) * 100\n",
    "resumen_idiomas = pd.DataFrame({\n",
    "    'Conteo': conteo_por_idioma,\n",
    "    'Porcentaje': porcentaje_por_idioma.round(2).astype(str) + '%'\n",
    "})\n",
    "\n",
    "resumen_idiomas = resumen_idiomas.sort_values(by='Conteo', ascending=False)\n",
    "resumen_idiomas.head()"
   ]
  },
  {
   "cell_type": "code",
   "execution_count": 31,
   "metadata": {},
   "outputs": [],
   "source": [
    "mapeo_idiomas = {\n",
    "    'en': 'English',\n",
    "    'pt': 'Portugués',\n",
    "    'es': 'Español',\n",
    "    'de': 'German',\n",
    "    'so': 'Somali',\n",
    "}\n",
    "\n",
    "# Aplicar el mapeo al DataFrame\n",
    "df_UserReviews['idioma_completo'] = df_UserReviews['language'].map(mapeo_idiomas)\n",
    "resumen_idiomas = df_UserReviews['idioma_completo'].value_counts().reset_index()\n",
    "resumen_idiomas.columns = ['Idioma', 'Conteo']\n",
    "resumen_idiomas['Conteo'] = resumen_idiomas['Conteo'].round(2)\n",
    "resumen_idiomas['Porcentaje'] = (resumen_idiomas['Conteo'] / len(df_UserReviews)) * 100\n",
    "resumen_idiomas['Porcentaje'] = resumen_idiomas['Porcentaje'].round(2)\n",
    "# Guardar en un archivo CSV\n",
    "resumen_idiomas.to_csv('resumen_idiomas.csv', index=False)"
   ]
  },
  {
   "cell_type": "code",
   "execution_count": 32,
   "metadata": {},
   "outputs": [],
   "source": [
    "# Filtrar los registros donde no es igual a en \n",
    "df_UserReviews = df_UserReviews[df_UserReviews['idioma_completo'] == 'English']\n",
    "df_UserReviews = df_UserReviews.drop('idioma_completo', axis=1)"
   ]
  },
  {
   "cell_type": "code",
   "execution_count": 33,
   "metadata": {},
   "outputs": [],
   "source": [
    "df_UserReviews.loc[:, 'review'] = df_UserReviews['review'].str.lower()\n",
    "#Eliminación de caracteres especiales\n",
    "df_UserReviews['review'] = df_UserReviews['review'].replace('[^A-Za-z0-9\\s]+', '', regex=True)\n",
    "df_UserReviews.loc[:, 'review'] = df_UserReviews['review'].str.replace('[^\\w\\s]', '', regex=True)"
   ]
  },
  {
   "cell_type": "code",
   "execution_count": 35,
   "metadata": {},
   "outputs": [],
   "source": [
    "# Análisis de sentimiento\n",
    "def analyze_sentiments(df):\n",
    "    sia = SentimentIntensityAnalyzer()\n",
    "    df['compound_score'] = df['review'].apply(lambda review: sia.polarity_scores(review)['compound'])\n",
    "    df['sentiment_analysis'] = df['compound_score'].apply(lambda score: 0 if score < 0 else (1 if score == 0 else 2))\n",
    "    score_counts = df['sentiment_analysis'].value_counts()\n",
    "    blank_reviews_count = df['review'].isnull().sum()\n",
    "    total_reviews = len(df)\n",
    "    score_percentages = (score_counts / total_reviews * 100).round(2)\n",
    "    blank_reviews_percentage = (blank_reviews_count / total_reviews * 100).round(2)\n",
    "    df.drop(['review','compound_score'], axis=1, inplace=True)  \n",
    "\n",
    "    return df, score_counts, blank_reviews_count, score_percentages, blank_reviews_percentage"
   ]
  },
  {
   "cell_type": "code",
   "execution_count": 36,
   "metadata": {},
   "outputs": [
    {
     "name": "stdout",
     "output_type": "stream",
     "text": [
      "\n",
      "Resumen de análisis de sentimientos:\n",
      "                    Conteo Porcentaje\n",
      "sentiment_analysis                   \n",
      "2                    31451     70.86%\n",
      "0                     8276     18.65%\n",
      "1                     4655     10.49%\n",
      "\n",
      "Conteo de reviews en blanco:  0  Porcentaje:  0.0%\n"
     ]
    }
   ],
   "source": [
    "# Llamar a la función analyze_sentiments\n",
    "df_UserReviews, score_counts, blank_reviews_count, score_percentages, blank_reviews_percentage = analyze_sentiments(df_UserReviews)\n",
    "\n",
    "resumen_sentimientos = pd.DataFrame({\n",
    "    'Conteo': score_counts,\n",
    "    'Porcentaje': score_percentages.round(2).astype(str) + '%'\n",
    "})\n",
    "resumen_sentimientos = resumen_sentimientos.sort_values(by='Conteo', ascending=False)\n",
    "print(\"\\nResumen de análisis de sentimientos:\")\n",
    "print(resumen_sentimientos)\n",
    "print(\"\\nConteo de reviews en blanco: \", blank_reviews_count, \" Porcentaje: \", blank_reviews_percentage.round(2).astype(str) + '%')"
   ]
  },
  {
   "cell_type": "code",
   "execution_count": 38,
   "metadata": {},
   "outputs": [],
   "source": [
    "df_UserReviews = df_UserReviews.drop('language', axis=1)\n",
    "df_UserReviews.to_csv('user_reviews_cleaned.csv', index=False)"
   ]
  }
 ],
 "metadata": {
  "kernelspec": {
   "display_name": "Python 3",
   "language": "python",
   "name": "python3"
  },
  "language_info": {
   "codemirror_mode": {
    "name": "ipython",
    "version": 3
   },
   "file_extension": ".py",
   "mimetype": "text/x-python",
   "name": "python",
   "nbconvert_exporter": "python",
   "pygments_lexer": "ipython3",
   "version": "3.11.9"
  }
 },
 "nbformat": 4,
 "nbformat_minor": 2
}
