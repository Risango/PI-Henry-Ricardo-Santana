{
 "cells": [
  {
   "cell_type": "code",
   "execution_count": 1,
   "metadata": {},
   "outputs": [],
   "source": [
    "import pandas as pd\n",
    "import os"
   ]
  },
  {
   "cell_type": "code",
   "execution_count": 2,
   "metadata": {},
   "outputs": [],
   "source": [
    "def PlayTimeGenre(genero: str):\n",
    "    result_df = pd.read_csv('PlayTimeGenre.csv')\n",
    "    filtered_df = result_df[result_df['genres'] == genero]\n",
    "    grouped_df = filtered_df.groupby('year')['hours_game'].sum()\n",
    "    max_hours_year = grouped_df.idxmax()\n",
    "    response_data = {\"Año de lanzamiento con más horas jugadas para {}: {}\".format(genero, max_hours_year)}\n",
    "    return response_data"
   ]
  },
  {
   "cell_type": "code",
   "execution_count": 3,
   "metadata": {},
   "outputs": [],
   "source": [
    "def UserForGenre(genero:str):\n",
    "    consulta2 = pd.read_csv('UserForGenre.csv')\n",
    "    genre_data = consulta2[consulta2['genres'] == genero]\n",
    "    top_user = genre_data.loc[genre_data['hours_game'].idxmax()]['user_id']\n",
    "    hours_by_year = genre_data.groupby('year')['hours_game'].sum().reset_index()\n",
    "    hours_by_year = hours_by_year.rename(columns={'year': 'Año', 'hours_game': 'Horas'})\n",
    "    hours_list = hours_by_year.to_dict(orient='records')\n",
    "    result = {\n",
    "        \"Usuario con más horas jugadas\": top_user,\n",
    "        \"#\": hours_list\n",
    "    }\n",
    "    return result"
   ]
  },
  {
   "cell_type": "code",
   "execution_count": 4,
   "metadata": {},
   "outputs": [],
   "source": [
    "def UsersRecommend(year: int):\n",
    "    df = pd.read_csv('UsersRecommend.csv')\n",
    "    result_df = df[df['year'] == year]\n",
    "    response_data = [{\"1ro\": result_df.iloc[0]['name']},\n",
    "                     {\"2do\": result_df.iloc[1]['name']},\n",
    "                     {\"3ro\": result_df.iloc[2]['name']}]\n",
    "    return response_data"
   ]
  },
  {
   "cell_type": "code",
   "execution_count": 5,
   "metadata": {},
   "outputs": [],
   "source": [
    "def UsersWorstDeveloper(year: int):\n",
    "    df = pd.read_csv('UsersWorstDeveloper.csv')\n",
    "    result_df = df[df['year'] == year]\n",
    "    response_data = [{\"1ro\": result_df.iloc[0]['developer']},\n",
    "                    {\"2do\": result_df.iloc[1]['developer']},\n",
    "                    {\"3ro\": result_df.iloc[2]['developer']}]\n",
    "    return response_data"
   ]
  },
  {
   "cell_type": "code",
   "execution_count": 6,
   "metadata": {},
   "outputs": [],
   "source": [
    "def sentiment_analysis(empresa_desarrolladora: str):\n",
    "    df = pd.read_csv('sentiment_analysis.csv')\n",
    "    result_df = df[df['developer'] == empresa_desarrolladora]\n",
    "    response_data = result_df.set_index('developer').to_dict(orient='index')\n",
    "    return response_data"
   ]
  },
  {
   "cell_type": "code",
   "execution_count": 7,
   "metadata": {},
   "outputs": [],
   "source": [
    "def recomendacion_usuario(item_id):\n",
    "    df = pd.read_csv('recomienda_item_item.csv')\n",
    "    result_df = df[df['item_id'] == item_id]\n",
    "    response_data = result_df['Recomendaciones']\n",
    "    return response_data"
   ]
  }
 ],
 "metadata": {
  "kernelspec": {
   "display_name": "Python 3",
   "language": "python",
   "name": "python3"
  },
  "language_info": {
   "codemirror_mode": {
    "name": "ipython",
    "version": 3
   },
   "file_extension": ".py",
   "mimetype": "text/x-python",
   "name": "python",
   "nbconvert_exporter": "python",
   "pygments_lexer": "ipython3",
   "version": "3.11.9"
  }
 },
 "nbformat": 4,
 "nbformat_minor": 2
}
