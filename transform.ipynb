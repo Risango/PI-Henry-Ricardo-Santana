{
 "cells": [
  {
   "cell_type": "code",
   "execution_count": 1,
   "metadata": {},
   "outputs": [],
   "source": [
    "import pandas as pd\n",
    "import ast"
   ]
  },
  {
   "cell_type": "code",
   "execution_count": 2,
   "metadata": {},
   "outputs": [],
   "source": [
    "df_user_reviews = pd.read_csv('user_reviews_cleaned.csv')\n",
    "df_user_items = pd.read_csv('user_items_cleaned.csv')\n",
    "df_steam_games = pd.read_csv('steam_games_cleaned.csv')\n"
   ]
  },
  {
   "cell_type": "code",
   "execution_count": 3,
   "metadata": {},
   "outputs": [],
   "source": [
    "# Merge de los DataFrames\n",
    "df_merged = pd.merge(df_user_items, df_steam_games[['item_id', 'year', 'genres']], on='item_id', how='inner')s\n",
    "df_merged = df_merged.groupby(['year', 'genres'])['hours_game'].sum().reset_index()\n",
    "df_merged['genres'] = df_merged['genres'].apply(ast.literal_eval)\n",
    "df_merged = df_merged.explode('genres').reset_index(drop=True)\n",
    "max_hours_genre = df_merged.loc[df_merged.groupby(['year', 'genres'])['hours_game'].idxmax()]\n",
    "max_hours_genre = max_hours_genre.sort_values(by=['genres', 'hours_game', 'year'], ascending=[True, False, True])\n",
    "max_hours_genre.to_csv('PlayTimeGenre.csv', index=False)"
   ]
  },
  {
   "cell_type": "code",
   "execution_count": 4,
   "metadata": {},
   "outputs": [],
   "source": [
    "df_game = df_steam_games.drop(['name', 'developer', 'price', 'tags','specs'],axis=1)\n",
    "\n",
    "# Merge de los DataFrames\n",
    "merged_data=pd.merge(df_user_items,df_game,left_on='item_id', right_on='item_id', how='right')\n",
    "merged_data.drop(['item_id'], axis=1, inplace=True)\n",
    "merged_data.dropna(inplace=True)\n",
    "merged_data['hours_game'] = merged_data['hours_game'].astype(int)\n",
    "merged_data['year'] = merged_data['year'].astype(int)\n",
    "merged_data['genres'] = merged_data['genres'].apply(ast.literal_eval)\n",
    "merged_data = merged_data.explode('genres').reset_index(drop=True)\n",
    "max_hours_df = merged_data.loc[merged_data.groupby(['genres', 'year'])['hours_game'].idxmax()]\n",
    "max_hours_df = max_hours_df[['genres', 'year', 'user_id', 'hours_game']]\n",
    "max_hours = max_hours_df.groupby(['genres', 'year', 'user_id'])['hours_game'].sum().reset_index()\n",
    "max_hours.to_csv('UserForGenre.csv', index=False)"
   ]
  },
  {
   "cell_type": "code",
   "execution_count": 5,
   "metadata": {},
   "outputs": [],
   "source": [
    "# Merge de los DataFrames\n",
    "df_merged = pd.merge(df_user_reviews, df_steam_games, on='item_id', how='left')\n",
    "result = df_merged.loc[(df_merged['recommend'] == True) & (df_merged['sentiment_analysis'].isin([1, 2])),\n",
    "                           ['year_x', 'name']]\n",
    "result = result.rename(columns={'year_x': 'year'})\n",
    "grouped_result = result.groupby(['year', 'name']).size().reset_index(name='count')\n",
    "grouped_result = grouped_result.sort_values(by=['year', 'count'], ascending=[False, False])\n",
    "top3_by_year = grouped_result.groupby('year').head(3)\n",
    "top3_by_year.to_csv('UsersRecommend.csv', index=False)"
   ]
  },
  {
   "cell_type": "code",
   "execution_count": 6,
   "metadata": {},
   "outputs": [],
   "source": [
    "# Unir los DataFrames\n",
    "df_merged = pd.merge(df_user_reviews, df_steam_games, on='item_id', how='left')\n",
    "\n",
    "# Filtrar las filas que cumplen con las condiciones\n",
    "df_filtered = df_merged.loc[(df_merged['recommend'] == False) & (df_merged['sentiment_analysis'] == 0),\n",
    "                           ['year_x', 'developer']]\n",
    "df_filtered = df_filtered.rename(columns={'year_x': 'year'})\n",
    "developer_counts = df_filtered.groupby(['year', 'developer']).size().reset_index(name='count')\n",
    "grouped_result = developer_counts.sort_values(by=['year', 'count'], ascending=[False, False])    \n",
    "result_df = grouped_result.groupby('year').head(3)    \n",
    "result_df.to_csv('UsersWorstDeveloper.csv', index=False)"
   ]
  },
  {
   "cell_type": "code",
   "execution_count": 7,
   "metadata": {},
   "outputs": [],
   "source": [
    "# Merge de los DataFrames\n",
    "merged_df = pd.merge(df_steam_games, df_user_reviews, on='item_id', how='inner')\n",
    "result_df = merged_df.groupby(['developer', 'sentiment_analysis']).size().reset_index(name='count')\n",
    "\n",
    "# Pivotear df\n",
    "result_df = result_df.pivot(index='developer', columns='sentiment_analysis', values='count').reset_index()\n",
    "result_df.columns = ['developer', 'Negative', 'Neutral', 'Positive']\n",
    "result_df = result_df.fillna(0)\n",
    "result_df[['Negative', 'Neutral', 'Positive']] = result_df[['Negative', 'Neutral', 'Positive']].astype(int)\n",
    "result_df.to_csv('sentiment_analysis.csv', index=False)"
   ]
  }
 ],
 "metadata": {
  "kernelspec": {
   "display_name": "Python 3",
   "language": "python",
   "name": "python3"
  },
  "language_info": {
   "codemirror_mode": {
    "name": "ipython",
    "version": 3
   },
   "file_extension": ".py",
   "mimetype": "text/x-python",
   "name": "python",
   "nbconvert_exporter": "python",
   "pygments_lexer": "ipython3",
   "version": "3.11.9"
  }
 },
 "nbformat": 4,
 "nbformat_minor": 2
}
